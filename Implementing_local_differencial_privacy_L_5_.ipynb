{
  "nbformat": 4,
  "nbformat_minor": 0,
  "metadata": {
    "colab": {
      "name": "Implementing local differencial privacy L-5 .ipynb",
      "version": "0.3.2",
      "provenance": [],
      "include_colab_link": true
    },
    "kernelspec": {
      "name": "python3",
      "display_name": "Python 3"
    },
    "accelerator": "GPU"
  },
  "cells": [
    {
      "cell_type": "markdown",
      "metadata": {
        "id": "view-in-github",
        "colab_type": "text"
      },
      "source": [
        "<a href=\"https://colab.research.google.com/github/UrviSoni/secure_and_private_AI/blob/master/Implementing_local_differencial_privacy_L_5_.ipynb\" target=\"_parent\"><img src=\"https://colab.research.google.com/assets/colab-badge.svg\" alt=\"Open In Colab\"/></a>"
      ]
    },
    {
      "cell_type": "code",
      "metadata": {
        "id": "JY0y-yyeVwtp",
        "colab_type": "code",
        "colab": {}
      },
      "source": [
        "import torch"
      ],
      "execution_count": 0,
      "outputs": []
    },
    {
      "cell_type": "code",
      "metadata": {
        "id": "0Tw8LRlBWpBp",
        "colab_type": "code",
        "colab": {}
      },
      "source": [
        "def get_parallel_db(db, remove_index):\n",
        "  \n",
        "  return torch.cat((db[0:remove_index],db[remove_index + 1:]))"
      ],
      "execution_count": 0,
      "outputs": []
    },
    {
      "cell_type": "code",
      "metadata": {
        "id": "n9lCxs51WrfE",
        "colab_type": "code",
        "colab": {}
      },
      "source": [
        "def get_parallel_dbs(db):\n",
        "  \n",
        "  parallel_dbs = list()\n",
        "  \n",
        "  for i in range(len(db)):\n",
        "    pdb = get_parallel_db(db, i)\n",
        "    parallel_dbs.append(pdb)\n",
        "    \n",
        "  return parallel_dbs"
      ],
      "execution_count": 0,
      "outputs": []
    },
    {
      "cell_type": "code",
      "metadata": {
        "id": "z6Qr7WZFWreT",
        "colab_type": "code",
        "colab": {}
      },
      "source": [
        "def create_db_and_parallels(num_entries):\n",
        "  \n",
        "  db = torch.rand(num_entries) > 0.5\n",
        "  pdbs = get_parallel_dbs(db)\n",
        "  \n",
        "  return db, pdbs"
      ],
      "execution_count": 0,
      "outputs": []
    },
    {
      "cell_type": "code",
      "metadata": {
        "id": "nv4s8aAkWwiE",
        "colab_type": "code",
        "colab": {}
      },
      "source": [
        "db, pdbs = create_db_and_parallels(20)"
      ],
      "execution_count": 0,
      "outputs": []
    },
    {
      "cell_type": "code",
      "metadata": {
        "id": "jLeiYj7hWyhb",
        "colab_type": "code",
        "outputId": "67a4a7af-cff8-427d-b29d-c785f6d2b1d8",
        "colab": {
          "base_uri": "https://localhost:8080/",
          "height": 51
        }
      },
      "source": [
        "db"
      ],
      "execution_count": 6,
      "outputs": [
        {
          "output_type": "execute_result",
          "data": {
            "text/plain": [
              "tensor([0, 0, 0, 0, 0, 1, 1, 1, 1, 0, 0, 0, 1, 1, 0, 0, 0, 1, 1, 1],\n",
              "       dtype=torch.uint8)"
            ]
          },
          "metadata": {
            "tags": []
          },
          "execution_count": 6
        }
      ]
    },
    {
      "cell_type": "code",
      "metadata": {
        "id": "UDj5Z6DbW1jb",
        "colab_type": "code",
        "outputId": "d4edffb3-ac74-4c2f-cdfd-f029caf62e04",
        "colab": {
          "base_uri": "https://localhost:8080/",
          "height": 697
        }
      },
      "source": [
        "pdbs"
      ],
      "execution_count": 7,
      "outputs": [
        {
          "output_type": "execute_result",
          "data": {
            "text/plain": [
              "[tensor([0, 0, 0, 0, 1, 1, 1, 1, 0, 0, 0, 1, 1, 0, 0, 0, 1, 1, 1],\n",
              "        dtype=torch.uint8),\n",
              " tensor([0, 0, 0, 0, 1, 1, 1, 1, 0, 0, 0, 1, 1, 0, 0, 0, 1, 1, 1],\n",
              "        dtype=torch.uint8),\n",
              " tensor([0, 0, 0, 0, 1, 1, 1, 1, 0, 0, 0, 1, 1, 0, 0, 0, 1, 1, 1],\n",
              "        dtype=torch.uint8),\n",
              " tensor([0, 0, 0, 0, 1, 1, 1, 1, 0, 0, 0, 1, 1, 0, 0, 0, 1, 1, 1],\n",
              "        dtype=torch.uint8),\n",
              " tensor([0, 0, 0, 0, 1, 1, 1, 1, 0, 0, 0, 1, 1, 0, 0, 0, 1, 1, 1],\n",
              "        dtype=torch.uint8),\n",
              " tensor([0, 0, 0, 0, 0, 1, 1, 1, 0, 0, 0, 1, 1, 0, 0, 0, 1, 1, 1],\n",
              "        dtype=torch.uint8),\n",
              " tensor([0, 0, 0, 0, 0, 1, 1, 1, 0, 0, 0, 1, 1, 0, 0, 0, 1, 1, 1],\n",
              "        dtype=torch.uint8),\n",
              " tensor([0, 0, 0, 0, 0, 1, 1, 1, 0, 0, 0, 1, 1, 0, 0, 0, 1, 1, 1],\n",
              "        dtype=torch.uint8),\n",
              " tensor([0, 0, 0, 0, 0, 1, 1, 1, 0, 0, 0, 1, 1, 0, 0, 0, 1, 1, 1],\n",
              "        dtype=torch.uint8),\n",
              " tensor([0, 0, 0, 0, 0, 1, 1, 1, 1, 0, 0, 1, 1, 0, 0, 0, 1, 1, 1],\n",
              "        dtype=torch.uint8),\n",
              " tensor([0, 0, 0, 0, 0, 1, 1, 1, 1, 0, 0, 1, 1, 0, 0, 0, 1, 1, 1],\n",
              "        dtype=torch.uint8),\n",
              " tensor([0, 0, 0, 0, 0, 1, 1, 1, 1, 0, 0, 1, 1, 0, 0, 0, 1, 1, 1],\n",
              "        dtype=torch.uint8),\n",
              " tensor([0, 0, 0, 0, 0, 1, 1, 1, 1, 0, 0, 0, 1, 0, 0, 0, 1, 1, 1],\n",
              "        dtype=torch.uint8),\n",
              " tensor([0, 0, 0, 0, 0, 1, 1, 1, 1, 0, 0, 0, 1, 0, 0, 0, 1, 1, 1],\n",
              "        dtype=torch.uint8),\n",
              " tensor([0, 0, 0, 0, 0, 1, 1, 1, 1, 0, 0, 0, 1, 1, 0, 0, 1, 1, 1],\n",
              "        dtype=torch.uint8),\n",
              " tensor([0, 0, 0, 0, 0, 1, 1, 1, 1, 0, 0, 0, 1, 1, 0, 0, 1, 1, 1],\n",
              "        dtype=torch.uint8),\n",
              " tensor([0, 0, 0, 0, 0, 1, 1, 1, 1, 0, 0, 0, 1, 1, 0, 0, 1, 1, 1],\n",
              "        dtype=torch.uint8),\n",
              " tensor([0, 0, 0, 0, 0, 1, 1, 1, 1, 0, 0, 0, 1, 1, 0, 0, 0, 1, 1],\n",
              "        dtype=torch.uint8),\n",
              " tensor([0, 0, 0, 0, 0, 1, 1, 1, 1, 0, 0, 0, 1, 1, 0, 0, 0, 1, 1],\n",
              "        dtype=torch.uint8),\n",
              " tensor([0, 0, 0, 0, 0, 1, 1, 1, 1, 0, 0, 0, 1, 1, 0, 0, 0, 1, 1],\n",
              "        dtype=torch.uint8)]"
            ]
          },
          "metadata": {
            "tags": []
          },
          "execution_count": 7
        }
      ]
    },
    {
      "cell_type": "code",
      "metadata": {
        "id": "s690L8Y0W3jP",
        "colab_type": "code",
        "colab": {}
      },
      "source": [
        "def query(db):\n",
        "  \n",
        "  return db.sum()"
      ],
      "execution_count": 0,
      "outputs": []
    },
    {
      "cell_type": "code",
      "metadata": {
        "id": "nMKPef6uW6yq",
        "colab_type": "code",
        "outputId": "8a0e1495-a648-424b-cd9b-c21c4b60c1b2",
        "colab": {
          "base_uri": "https://localhost:8080/",
          "height": 34
        }
      },
      "source": [
        "query(db)"
      ],
      "execution_count": 9,
      "outputs": [
        {
          "output_type": "execute_result",
          "data": {
            "text/plain": [
              "tensor(9)"
            ]
          },
          "metadata": {
            "tags": []
          },
          "execution_count": 9
        }
      ]
    },
    {
      "cell_type": "code",
      "metadata": {
        "id": "gIF0qSgqW8q9",
        "colab_type": "code",
        "outputId": "3f6a3d86-4633-4310-8208-8982973515a8",
        "colab": {
          "base_uri": "https://localhost:8080/",
          "height": 34
        }
      },
      "source": [
        "query(pdbs[3])"
      ],
      "execution_count": 10,
      "outputs": [
        {
          "output_type": "execute_result",
          "data": {
            "text/plain": [
              "tensor(9)"
            ]
          },
          "metadata": {
            "tags": []
          },
          "execution_count": 10
        }
      ]
    },
    {
      "cell_type": "code",
      "metadata": {
        "id": "0CYM_3WcW-aY",
        "colab_type": "code",
        "colab": {}
      },
      "source": [
        "full_db_result = query(db)"
      ],
      "execution_count": 0,
      "outputs": []
    },
    {
      "cell_type": "code",
      "metadata": {
        "id": "FR-6j2DMXBuM",
        "colab_type": "code",
        "colab": {}
      },
      "source": [
        "max_distance = 0\n",
        "for pdb in pdbs:\n",
        "  pdb_result = query(pdb)\n",
        "  \n",
        "  db_distance = torch.abs(pdb_result - full_db_result)\n",
        "  \n",
        "  if(db_distance > max_distance):\n",
        "    max_distance = db_distance"
      ],
      "execution_count": 0,
      "outputs": []
    },
    {
      "cell_type": "code",
      "metadata": {
        "id": "f6F_jl2eXEIZ",
        "colab_type": "code",
        "colab": {}
      },
      "source": [
        "def sensitivity(query, n_entries=1000):\n",
        "  \n",
        "  db, pdbs = create_db_and_parallels(n_entries)\n",
        "  full_db_result = query(db)\n",
        "  \n",
        "  max_distance = 0\n",
        "  for pdb in pdbs:\n",
        "    pdb_result = query(pdb)\n",
        "\n",
        "    db_distance = torch.abs(pdb_result - full_db_result)\n",
        "\n",
        "    if(db_distance > max_distance):\n",
        "      max_distance = db_distance\n",
        "      \n",
        "  return max_distance"
      ],
      "execution_count": 0,
      "outputs": []
    },
    {
      "cell_type": "code",
      "metadata": {
        "id": "xYfuifKWXMc4",
        "colab_type": "code",
        "outputId": "f4e7cdcb-9a74-49f3-810f-ae1ae3874fb2",
        "colab": {
          "base_uri": "https://localhost:8080/",
          "height": 34
        }
      },
      "source": [
        "sensitivity(query)"
      ],
      "execution_count": 14,
      "outputs": [
        {
          "output_type": "execute_result",
          "data": {
            "text/plain": [
              "tensor(1)"
            ]
          },
          "metadata": {
            "tags": []
          },
          "execution_count": 14
        }
      ]
    },
    {
      "cell_type": "code",
      "metadata": {
        "id": "hVc7toI2XPl2",
        "colab_type": "code",
        "colab": {}
      },
      "source": [
        "def query(db):\n",
        "  \n",
        "  return db.float().mean()"
      ],
      "execution_count": 0,
      "outputs": []
    },
    {
      "cell_type": "code",
      "metadata": {
        "id": "B49y3ar2XSCe",
        "colab_type": "code",
        "outputId": "0cdc30e2-a554-4e98-f876-e39053d04280",
        "colab": {
          "base_uri": "https://localhost:8080/",
          "height": 34
        }
      },
      "source": [
        "sensitivity(query)"
      ],
      "execution_count": 16,
      "outputs": [
        {
          "output_type": "execute_result",
          "data": {
            "text/plain": [
              "tensor(0.0005)"
            ]
          },
          "metadata": {
            "tags": []
          },
          "execution_count": 16
        }
      ]
    },
    {
      "cell_type": "code",
      "metadata": {
        "id": "lC_vXuhkXU-_",
        "colab_type": "code",
        "colab": {}
      },
      "source": [
        "def query(db, threshold = 5):\n",
        "  \n",
        "  return (db.sum() > threshold).float()"
      ],
      "execution_count": 0,
      "outputs": []
    },
    {
      "cell_type": "code",
      "metadata": {
        "id": "Udok-fBnXXbj",
        "colab_type": "code",
        "outputId": "91013deb-2ea4-4514-a98b-d90fa93d1b99",
        "colab": {
          "base_uri": "https://localhost:8080/",
          "height": 34
        }
      },
      "source": [
        "db, pdbs = create_db_and_parallels(10)\n",
        "db.sum()"
      ],
      "execution_count": 18,
      "outputs": [
        {
          "output_type": "execute_result",
          "data": {
            "text/plain": [
              "tensor(5)"
            ]
          },
          "metadata": {
            "tags": []
          },
          "execution_count": 18
        }
      ]
    },
    {
      "cell_type": "code",
      "metadata": {
        "id": "Q6aMcFx-XZyg",
        "colab_type": "code",
        "outputId": "349d98b9-a763-4297-81ed-e5fc5f818fd4",
        "colab": {
          "base_uri": "https://localhost:8080/",
          "height": 34
        }
      },
      "source": [
        "db, pdbs = create_db_and_parallels(10)\n",
        "query(db)"
      ],
      "execution_count": 19,
      "outputs": [
        {
          "output_type": "execute_result",
          "data": {
            "text/plain": [
              "tensor(1.)"
            ]
          },
          "metadata": {
            "tags": []
          },
          "execution_count": 19
        }
      ]
    },
    {
      "cell_type": "code",
      "metadata": {
        "id": "tC08O_wzXdIy",
        "colab_type": "code",
        "outputId": "ade1f4e5-94d5-44d6-c0c7-493ff76e0dab",
        "colab": {
          "base_uri": "https://localhost:8080/",
          "height": 34
        }
      },
      "source": [
        "db.sum() > 5"
      ],
      "execution_count": 20,
      "outputs": [
        {
          "output_type": "execute_result",
          "data": {
            "text/plain": [
              "tensor(1, dtype=torch.uint8)"
            ]
          },
          "metadata": {
            "tags": []
          },
          "execution_count": 20
        }
      ]
    },
    {
      "cell_type": "code",
      "metadata": {
        "id": "F1WaS5-vXe6A",
        "colab_type": "code",
        "colab": {}
      },
      "source": [
        "sens_f = sensitivity(query, n_entries = 5)"
      ],
      "execution_count": 0,
      "outputs": []
    },
    {
      "cell_type": "code",
      "metadata": {
        "id": "ZCiIRSYaXgz6",
        "colab_type": "code",
        "outputId": "fd6c31f8-d6ed-4069-9740-ac41cb0c770c",
        "colab": {
          "base_uri": "https://localhost:8080/",
          "height": 187
        }
      },
      "source": [
        "for i in range(10):\n",
        "  \n",
        "  sens_f = sensitivity(query, n_entries = 10)\n",
        "  print(sens_f)"
      ],
      "execution_count": 22,
      "outputs": [
        {
          "output_type": "stream",
          "text": [
            "0\n",
            "0\n",
            "0\n",
            "0\n",
            "0\n",
            "0\n",
            "0\n",
            "0\n",
            "0\n",
            "0\n"
          ],
          "name": "stdout"
        }
      ]
    },
    {
      "cell_type": "code",
      "metadata": {
        "id": "sH5dYIkwXkQ1",
        "colab_type": "code",
        "colab": {}
      },
      "source": [
        "db, _ = create_db_and_parallels(100)"
      ],
      "execution_count": 0,
      "outputs": []
    },
    {
      "cell_type": "code",
      "metadata": {
        "id": "0-zRlqcnXmVo",
        "colab_type": "code",
        "colab": {}
      },
      "source": [
        "pdb = get_parallel_db(db, remove_index = 10)"
      ],
      "execution_count": 0,
      "outputs": []
    },
    {
      "cell_type": "code",
      "metadata": {
        "id": "2BCfTcoQXoMm",
        "colab_type": "code",
        "outputId": "b9c9a0fc-edaf-417b-c365-0e8c69c7c52c",
        "colab": {
          "base_uri": "https://localhost:8080/",
          "height": 34
        }
      },
      "source": [
        "db[10] "
      ],
      "execution_count": 25,
      "outputs": [
        {
          "output_type": "execute_result",
          "data": {
            "text/plain": [
              "tensor(1, dtype=torch.uint8)"
            ]
          },
          "metadata": {
            "tags": []
          },
          "execution_count": 25
        }
      ]
    },
    {
      "cell_type": "code",
      "metadata": {
        "id": "c8Mhf6mQXqUN",
        "colab_type": "code",
        "outputId": "72ccd810-30ff-441d-a94a-0f6e57d583b2",
        "colab": {
          "base_uri": "https://localhost:8080/",
          "height": 34
        }
      },
      "source": [
        "sum(db)"
      ],
      "execution_count": 26,
      "outputs": [
        {
          "output_type": "execute_result",
          "data": {
            "text/plain": [
              "tensor(49, dtype=torch.uint8)"
            ]
          },
          "metadata": {
            "tags": []
          },
          "execution_count": 26
        }
      ]
    },
    {
      "cell_type": "code",
      "metadata": {
        "id": "-LunQmbcXtPa",
        "colab_type": "code",
        "outputId": "31f52a8a-5ad4-4416-baa7-172f3fcc5f92",
        "colab": {
          "base_uri": "https://localhost:8080/",
          "height": 34
        }
      },
      "source": [
        "# differencing attack using sum query\n",
        "\n",
        "sum(db) - sum(pdb)"
      ],
      "execution_count": 27,
      "outputs": [
        {
          "output_type": "execute_result",
          "data": {
            "text/plain": [
              "tensor(1, dtype=torch.uint8)"
            ]
          },
          "metadata": {
            "tags": []
          },
          "execution_count": 27
        }
      ]
    },
    {
      "cell_type": "code",
      "metadata": {
        "id": "kIrvDmUQXvfV",
        "colab_type": "code",
        "outputId": "63041fc3-3684-4ba8-a3c3-2778e4cc68a6",
        "colab": {
          "base_uri": "https://localhost:8080/",
          "height": 34
        }
      },
      "source": [
        "# differencing attack using mean query\n",
        "\n",
        "(sum(db).float() / len(db)) - (sum(pdb).float() / len(pdb))"
      ],
      "execution_count": 28,
      "outputs": [
        {
          "output_type": "execute_result",
          "data": {
            "text/plain": [
              "tensor(0.0052)"
            ]
          },
          "metadata": {
            "tags": []
          },
          "execution_count": 28
        }
      ]
    },
    {
      "cell_type": "code",
      "metadata": {
        "id": "eHvIURfLXxxA",
        "colab_type": "code",
        "outputId": "8f7570c8-d2ba-4c1e-dff6-4db8bb8a6a00",
        "colab": {
          "base_uri": "https://localhost:8080/",
          "height": 34
        }
      },
      "source": [
        "# differencing attack threshold\n",
        "\n",
        "(sum(db).float() > 52) - (sum(pdb).float() > 52)"
      ],
      "execution_count": 29,
      "outputs": [
        {
          "output_type": "execute_result",
          "data": {
            "text/plain": [
              "tensor(0, dtype=torch.uint8)"
            ]
          },
          "metadata": {
            "tags": []
          },
          "execution_count": 29
        }
      ]
    },
    {
      "cell_type": "code",
      "metadata": {
        "id": "x8oO_-uaYVN7",
        "colab_type": "code",
        "colab": {}
      },
      "source": [
        "db, pdbs = create_db_and_parallels(100)\n"
      ],
      "execution_count": 0,
      "outputs": []
    },
    {
      "cell_type": "code",
      "metadata": {
        "id": "nnY-ctmaZOrv",
        "colab_type": "code",
        "outputId": "64f40238-3a37-416d-c2b8-1dd4025903ed",
        "colab": {
          "base_uri": "https://localhost:8080/",
          "height": 102
        }
      },
      "source": [
        "# actual values from people\n",
        "\n",
        "db"
      ],
      "execution_count": 31,
      "outputs": [
        {
          "output_type": "execute_result",
          "data": {
            "text/plain": [
              "tensor([0, 1, 1, 1, 1, 0, 1, 0, 1, 0, 0, 0, 1, 0, 0, 0, 0, 0, 1, 0, 1, 0, 1, 0,\n",
              "        0, 0, 1, 0, 1, 0, 0, 0, 1, 0, 1, 0, 0, 1, 0, 0, 0, 0, 0, 1, 1, 1, 1, 0,\n",
              "        1, 0, 0, 1, 1, 1, 1, 1, 1, 1, 0, 1, 1, 1, 0, 0, 1, 0, 0, 1, 0, 1, 0, 0,\n",
              "        1, 0, 0, 1, 1, 0, 0, 0, 1, 0, 0, 0, 0, 1, 1, 0, 0, 1, 1, 0, 1, 1, 0, 0,\n",
              "        1, 1, 0, 0], dtype=torch.uint8)"
            ]
          },
          "metadata": {
            "tags": []
          },
          "execution_count": 31
        }
      ]
    },
    {
      "cell_type": "code",
      "metadata": {
        "id": "oQPXSIpyY7yc",
        "colab_type": "code",
        "colab": {}
      },
      "source": [
        "first_coin_flip = (torch.rand(len(db)) > 0.5).float()\n",
        "second_coin_flip = (torch.rand(len(db)) > 0.5).float()"
      ],
      "execution_count": 0,
      "outputs": []
    },
    {
      "cell_type": "code",
      "metadata": {
        "id": "nq5oghLCZRVB",
        "colab_type": "code",
        "outputId": "41dd8a7f-eab3-4423-fa7c-c9bd7d952c00",
        "colab": {
          "base_uri": "https://localhost:8080/",
          "height": 119
        }
      },
      "source": [
        "first_coin_flip"
      ],
      "execution_count": 33,
      "outputs": [
        {
          "output_type": "execute_result",
          "data": {
            "text/plain": [
              "tensor([1., 1., 0., 1., 0., 1., 1., 1., 0., 0., 0., 0., 1., 0., 0., 1., 0., 0.,\n",
              "        0., 1., 1., 0., 0., 0., 1., 1., 0., 0., 1., 1., 1., 1., 0., 0., 1., 1.,\n",
              "        0., 0., 1., 0., 1., 0., 0., 1., 0., 0., 0., 1., 1., 1., 1., 0., 0., 0.,\n",
              "        0., 0., 0., 0., 0., 1., 1., 1., 1., 0., 1., 1., 1., 1., 0., 1., 0., 0.,\n",
              "        1., 1., 1., 0., 1., 0., 1., 0., 0., 1., 1., 1., 0., 0., 0., 0., 0., 1.,\n",
              "        0., 0., 1., 0., 1., 1., 1., 1., 0., 0.])"
            ]
          },
          "metadata": {
            "tags": []
          },
          "execution_count": 33
        }
      ]
    },
    {
      "cell_type": "code",
      "metadata": {
        "id": "SvZ4138SZlVy",
        "colab_type": "code",
        "outputId": "9644349a-23b2-4980-bb9a-c6419ca660d8",
        "colab": {
          "base_uri": "https://localhost:8080/",
          "height": 119
        }
      },
      "source": [
        "second_coin_flip"
      ],
      "execution_count": 34,
      "outputs": [
        {
          "output_type": "execute_result",
          "data": {
            "text/plain": [
              "tensor([0., 0., 1., 1., 0., 1., 1., 0., 1., 0., 0., 0., 0., 1., 1., 0., 0., 0.,\n",
              "        1., 0., 1., 1., 1., 0., 0., 0., 1., 0., 0., 1., 1., 1., 0., 0., 0., 0.,\n",
              "        0., 1., 1., 1., 0., 1., 1., 1., 0., 0., 0., 0., 0., 1., 1., 0., 0., 1.,\n",
              "        0., 1., 1., 0., 1., 0., 1., 1., 1., 1., 1., 1., 0., 0., 0., 0., 1., 0.,\n",
              "        1., 1., 1., 0., 1., 0., 1., 1., 1., 0., 0., 0., 1., 1., 0., 1., 0., 0.,\n",
              "        0., 1., 0., 1., 0., 0., 1., 1., 1., 0.])"
            ]
          },
          "metadata": {
            "tags": []
          },
          "execution_count": 34
        }
      ]
    },
    {
      "cell_type": "code",
      "metadata": {
        "id": "koWtxb4UZLLX",
        "colab_type": "code",
        "outputId": "c0cd7a38-0f2e-46f4-8024-5bf380e2ebb2",
        "colab": {
          "base_uri": "https://localhost:8080/",
          "height": 119
        }
      },
      "source": [
        "db.float() * first_coin_flip"
      ],
      "execution_count": 35,
      "outputs": [
        {
          "output_type": "execute_result",
          "data": {
            "text/plain": [
              "tensor([0., 1., 0., 1., 0., 0., 1., 0., 0., 0., 0., 0., 1., 0., 0., 0., 0., 0.,\n",
              "        0., 0., 1., 0., 0., 0., 0., 0., 0., 0., 1., 0., 0., 0., 0., 0., 1., 0.,\n",
              "        0., 0., 0., 0., 0., 0., 0., 1., 0., 0., 0., 0., 1., 0., 0., 0., 0., 0.,\n",
              "        0., 0., 0., 0., 0., 1., 1., 1., 0., 0., 1., 0., 0., 1., 0., 1., 0., 0.,\n",
              "        1., 0., 0., 0., 1., 0., 0., 0., 0., 0., 0., 0., 0., 0., 0., 0., 0., 1.,\n",
              "        0., 0., 1., 0., 0., 0., 1., 1., 0., 0.])"
            ]
          },
          "metadata": {
            "tags": []
          },
          "execution_count": 35
        }
      ]
    },
    {
      "cell_type": "code",
      "metadata": {
        "id": "tmHK50-YaG37",
        "colab_type": "code",
        "outputId": "7cbe9467-584e-4904-893e-60f332404e11",
        "colab": {
          "base_uri": "https://localhost:8080/",
          "height": 119
        }
      },
      "source": [
        "(1 - first_coin_flip)"
      ],
      "execution_count": 36,
      "outputs": [
        {
          "output_type": "execute_result",
          "data": {
            "text/plain": [
              "tensor([0., 0., 1., 0., 1., 0., 0., 0., 1., 1., 1., 1., 0., 1., 1., 0., 1., 1.,\n",
              "        1., 0., 0., 1., 1., 1., 0., 0., 1., 1., 0., 0., 0., 0., 1., 1., 0., 0.,\n",
              "        1., 1., 0., 1., 0., 1., 1., 0., 1., 1., 1., 0., 0., 0., 0., 1., 1., 1.,\n",
              "        1., 1., 1., 1., 1., 0., 0., 0., 0., 1., 0., 0., 0., 0., 1., 0., 1., 1.,\n",
              "        0., 0., 0., 1., 0., 1., 0., 1., 1., 0., 0., 0., 1., 1., 1., 1., 1., 0.,\n",
              "        1., 1., 0., 1., 0., 0., 0., 0., 1., 1.])"
            ]
          },
          "metadata": {
            "tags": []
          },
          "execution_count": 36
        }
      ]
    },
    {
      "cell_type": "code",
      "metadata": {
        "id": "pGoel86baG2f",
        "colab_type": "code",
        "outputId": "a748d3af-418f-4cc3-e010-17bf40c0f2e0",
        "colab": {
          "base_uri": "https://localhost:8080/",
          "height": 119
        }
      },
      "source": [
        "(1 - first_coin_flip) * second_coin_flip"
      ],
      "execution_count": 37,
      "outputs": [
        {
          "output_type": "execute_result",
          "data": {
            "text/plain": [
              "tensor([0., 0., 1., 0., 0., 0., 0., 0., 1., 0., 0., 0., 0., 1., 1., 0., 0., 0.,\n",
              "        1., 0., 0., 1., 1., 0., 0., 0., 1., 0., 0., 0., 0., 0., 0., 0., 0., 0.,\n",
              "        0., 1., 0., 1., 0., 1., 1., 0., 0., 0., 0., 0., 0., 0., 0., 0., 0., 1.,\n",
              "        0., 1., 1., 0., 1., 0., 0., 0., 0., 1., 0., 0., 0., 0., 0., 0., 1., 0.,\n",
              "        0., 0., 0., 0., 0., 0., 0., 1., 1., 0., 0., 0., 1., 1., 0., 1., 0., 0.,\n",
              "        0., 1., 0., 1., 0., 0., 0., 0., 1., 0.])"
            ]
          },
          "metadata": {
            "tags": []
          },
          "execution_count": 37
        }
      ]
    },
    {
      "cell_type": "code",
      "metadata": {
        "id": "mqpFBlE0agNu",
        "colab_type": "code",
        "colab": {}
      },
      "source": [
        "augmented_database = db.float() * first_coin_flip + (1 - first_coin_flip) * second_coin_flip"
      ],
      "execution_count": 0,
      "outputs": []
    },
    {
      "cell_type": "code",
      "metadata": {
        "id": "qjDlFkoAaygW",
        "colab_type": "code",
        "colab": {}
      },
      "source": [
        "db_result = torch.mean(augmented_database.float()) * 2 - 0.5"
      ],
      "execution_count": 0,
      "outputs": []
    },
    {
      "cell_type": "code",
      "metadata": {
        "id": "hx8o36PDYf2w",
        "colab_type": "code",
        "outputId": "399f0d60-ee79-4586-ea3d-46dd682fb74d",
        "colab": {
          "base_uri": "https://localhost:8080/",
          "height": 34
        }
      },
      "source": [
        "true_result = torch.mean(db.float())\n",
        "true_result"
      ],
      "execution_count": 40,
      "outputs": [
        {
          "output_type": "execute_result",
          "data": {
            "text/plain": [
              "tensor(0.4500)"
            ]
          },
          "metadata": {
            "tags": []
          },
          "execution_count": 40
        }
      ]
    },
    {
      "cell_type": "code",
      "metadata": {
        "id": "mGpGNfWua3AM",
        "colab_type": "code",
        "colab": {}
      },
      "source": [
        "def query(db):\n",
        "  \n",
        "  true_result = torch.mean(db.float())\n",
        "\n",
        "  first_coin_flip = (torch.rand(len(db)) > 0.5).float()\n",
        "  second_coin_flip = (torch.rand(len(db)) > 0.5).float()\n",
        "  \n",
        "  augmented_database = db.float() * first_coin_flip + (1 - first_coin_flip) * second_coin_flip\n",
        "  db_result = torch.mean(augmented_database.float()) * 2 - 0.5\n",
        "  \n",
        "  return db_result, true_result"
      ],
      "execution_count": 0,
      "outputs": []
    },
    {
      "cell_type": "code",
      "metadata": {
        "id": "PHf4_2t6c4jl",
        "colab_type": "code",
        "outputId": "b4d69f10-5771-4050-a5e4-2edb93de1f58",
        "colab": {
          "base_uri": "https://localhost:8080/",
          "height": 51
        }
      },
      "source": [
        "db, pdbs = create_db_and_parallels(10)\n",
        "private_result, true_result = query(db)\n",
        "print(\"With Noise\"  + str(private_result))\n",
        "print(\"Without Noise\" + str(true_result))"
      ],
      "execution_count": 42,
      "outputs": [
        {
          "output_type": "stream",
          "text": [
            "With Noisetensor(0.3000)\n",
            "Without Noisetensor(0.4000)\n"
          ],
          "name": "stdout"
        }
      ]
    },
    {
      "cell_type": "code",
      "metadata": {
        "id": "wWO1nDvIdiO2",
        "colab_type": "code",
        "outputId": "6dbf05e5-7675-4c23-9dd5-58d14c7e3458",
        "colab": {
          "base_uri": "https://localhost:8080/",
          "height": 51
        }
      },
      "source": [
        "db, pdbs = create_db_and_parallels(100)\n",
        "private_result, true_result = query(db)\n",
        "print(\"With Noise\"  + str(private_result))\n",
        "print(\"Without Noise\" + str(true_result))"
      ],
      "execution_count": 43,
      "outputs": [
        {
          "output_type": "stream",
          "text": [
            "With Noisetensor(0.3800)\n",
            "Without Noisetensor(0.4200)\n"
          ],
          "name": "stdout"
        }
      ]
    },
    {
      "cell_type": "code",
      "metadata": {
        "id": "UxMg_N3AdlXB",
        "colab_type": "code",
        "outputId": "e81a249a-a3f2-4b0a-98a7-4120e8f6821a",
        "colab": {
          "base_uri": "https://localhost:8080/",
          "height": 51
        }
      },
      "source": [
        "db, pdbs = create_db_and_parallels(1000)\n",
        "private_result, true_result = query(db)\n",
        "print(\"With Noise\"  + str(private_result))\n",
        "print(\"Without Noise\" + str(true_result))"
      ],
      "execution_count": 44,
      "outputs": [
        {
          "output_type": "stream",
          "text": [
            "With Noisetensor(0.5320)\n",
            "Without Noisetensor(0.4990)\n"
          ],
          "name": "stdout"
        }
      ]
    },
    {
      "cell_type": "code",
      "metadata": {
        "id": "ilr9MHjKdpUY",
        "colab_type": "code",
        "outputId": "7dbaf8b8-99e2-4d6c-ebf9-64f2ca92213a",
        "colab": {
          "base_uri": "https://localhost:8080/",
          "height": 51
        }
      },
      "source": [
        "db, pdbs = create_db_and_parallels(10000)\n",
        "private_result, true_result = query(db)\n",
        "print(\"With Noise\"  + str(private_result))\n",
        "print(\"Without Noise\" + str(true_result))"
      ],
      "execution_count": 45,
      "outputs": [
        {
          "output_type": "stream",
          "text": [
            "With Noisetensor(0.5146)\n",
            "Without Noisetensor(0.5036)\n"
          ],
          "name": "stdout"
        }
      ]
    },
    {
      "cell_type": "code",
      "metadata": {
        "id": "GjtXJiOedxFn",
        "colab_type": "code",
        "colab": {}
      },
      "source": [
        "def query(db, noise=0.2):\n",
        "  \n",
        "  true_result = torch.mean(db.float())\n",
        "\n",
        "  first_coin_flip = (torch.rand(len(db)) > 0.5).float()\n",
        "  second_coin_flip = (torch.rand(len(db)) > 0.5).float()\n",
        "  \n",
        "  augmented_database = db.float() * first_coin_flip + (1 - first_coin_flip) * second_coin_flip\n",
        "  db_result = torch.mean(augmented_database.float()) * 2 - 0.5\n",
        "  \n",
        "  return db_result, true_result"
      ],
      "execution_count": 0,
      "outputs": []
    },
    {
      "cell_type": "code",
      "metadata": {
        "id": "nFM6XT0kj4B8",
        "colab_type": "code",
        "colab": {}
      },
      "source": [
        "true_dist_mean = 0.7 # 70% people said YES\n",
        "noise_dist_mean = 0.5 # 50/50 coin flip"
      ],
      "execution_count": 0,
      "outputs": []
    },
    {
      "cell_type": "code",
      "metadata": {
        "id": "AGFW88HrkxN2",
        "colab_type": "code",
        "outputId": "3afbb936-918e-4d2c-9e86-d2f776b7a3f4",
        "colab": {
          "base_uri": "https://localhost:8080/",
          "height": 34
        }
      },
      "source": [
        "augmented_database_mean = (true_dist_mean + noise_dist_mean) / 2\n",
        "augmented_database_mean"
      ],
      "execution_count": 48,
      "outputs": [
        {
          "output_type": "execute_result",
          "data": {
            "text/plain": [
              "0.6"
            ]
          },
          "metadata": {
            "tags": []
          },
          "execution_count": 48
        }
      ]
    },
    {
      "cell_type": "code",
      "metadata": {
        "id": "EmRB1CwNlo0t",
        "colab_type": "code",
        "colab": {}
      },
      "source": [
        "noise = 0.2\n",
        "\n",
        "true_result = torch.mean(db.float())\n",
        "\n",
        "first_coin_flip = (torch.rand(len(db)) > 0.5).float()\n",
        "second_coin_flip = (torch.rand(len(db)) > 0.5).float()\n",
        "  \n",
        "augmented_database = db.float() * first_coin_flip + (1 - first_coin_flip) * second_coin_flip\n",
        "\n",
        "sk_result = augmented_database.float().mean()"
      ],
      "execution_count": 0,
      "outputs": []
    },
    {
      "cell_type": "code",
      "metadata": {
        "id": "Na4DEuLhmpci",
        "colab_type": "code",
        "outputId": "cfadebb1-48bb-4589-b77c-7f974d1a5648",
        "colab": {
          "base_uri": "https://localhost:8080/",
          "height": 34
        }
      },
      "source": [
        "sk_result"
      ],
      "execution_count": 50,
      "outputs": [
        {
          "output_type": "execute_result",
          "data": {
            "text/plain": [
              "tensor(0.5028)"
            ]
          },
          "metadata": {
            "tags": []
          },
          "execution_count": 50
        }
      ]
    },
    {
      "cell_type": "code",
      "metadata": {
        "id": "M5R0ZjwBncc2",
        "colab_type": "code",
        "colab": {}
      },
      "source": [
        "noise = 0.5 # 50/50 first coin flip\n",
        "\n",
        "true_dist_mean = 0.7 # 70% people said YES\n",
        "noise_dist_mean = 0.5 # 50/50 coin flip"
      ],
      "execution_count": 0,
      "outputs": []
    },
    {
      "cell_type": "code",
      "metadata": {
        "id": "OKhNbr10nnoa",
        "colab_type": "code",
        "outputId": "2f1ad276-0511-4d94-a14c-5cc8d48c4a95",
        "colab": {
          "base_uri": "https://localhost:8080/",
          "height": 34
        }
      },
      "source": [
        "augmented_database_mean = (true_dist_mean * noise) + (noise_dist_mean * (1 - noise)) \n",
        "augmented_database_mean"
      ],
      "execution_count": 52,
      "outputs": [
        {
          "output_type": "execute_result",
          "data": {
            "text/plain": [
              "0.6"
            ]
          },
          "metadata": {
            "tags": []
          },
          "execution_count": 52
        }
      ]
    },
    {
      "cell_type": "code",
      "metadata": {
        "id": "CQvxhzH-nx0a",
        "colab_type": "code",
        "colab": {}
      },
      "source": [
        "private_result = ((sk_result / noise) - 0.5) * noise / (1 - noise)"
      ],
      "execution_count": 0,
      "outputs": []
    },
    {
      "cell_type": "code",
      "metadata": {
        "id": "MiL_Us9Kokbe",
        "colab_type": "code",
        "outputId": "3df06b56-fffa-41e9-bc6f-d32532f87479",
        "colab": {
          "base_uri": "https://localhost:8080/",
          "height": 34
        }
      },
      "source": [
        "sk_result"
      ],
      "execution_count": 54,
      "outputs": [
        {
          "output_type": "execute_result",
          "data": {
            "text/plain": [
              "tensor(0.5028)"
            ]
          },
          "metadata": {
            "tags": []
          },
          "execution_count": 54
        }
      ]
    },
    {
      "cell_type": "code",
      "metadata": {
        "id": "Gg1vCGMTohBU",
        "colab_type": "code",
        "outputId": "cc20a64c-9ece-4dda-f148-10c774455c75",
        "colab": {
          "base_uri": "https://localhost:8080/",
          "height": 34
        }
      },
      "source": [
        "private_result"
      ],
      "execution_count": 55,
      "outputs": [
        {
          "output_type": "execute_result",
          "data": {
            "text/plain": [
              "tensor(0.5056)"
            ]
          },
          "metadata": {
            "tags": []
          },
          "execution_count": 55
        }
      ]
    },
    {
      "cell_type": "code",
      "metadata": {
        "id": "cVd2L6E_pFCx",
        "colab_type": "code",
        "outputId": "6fbb1bc7-8f2f-442d-8ff0-4f8636bda2b3",
        "colab": {
          "base_uri": "https://localhost:8080/",
          "height": 51
        }
      },
      "source": [
        "db, pdbs = create_db_and_parallels(100)\n",
        "private_result, true_result = query(db, noise=0.1)\n",
        "print(\"With Noise\"  + str(private_result))\n",
        "print(\"Without Noise\" + str(true_result))"
      ],
      "execution_count": 56,
      "outputs": [
        {
          "output_type": "stream",
          "text": [
            "With Noisetensor(0.4400)\n",
            "Without Noisetensor(0.4600)\n"
          ],
          "name": "stdout"
        }
      ]
    },
    {
      "cell_type": "code",
      "metadata": {
        "id": "7qp0i8qypUrD",
        "colab_type": "code",
        "outputId": "31b230db-6859-45a7-d9c6-d2e74f53dd63",
        "colab": {
          "base_uri": "https://localhost:8080/",
          "height": 51
        }
      },
      "source": [
        "db, pdbs = create_db_and_parallels(100)\n",
        "private_result, true_result = query(db, noise=0.8)\n",
        "print(\"With Noise\"  + str(private_result))\n",
        "print(\"Without Noise\" + str(true_result))"
      ],
      "execution_count": 57,
      "outputs": [
        {
          "output_type": "stream",
          "text": [
            "With Noisetensor(0.5600)\n",
            "Without Noisetensor(0.5100)\n"
          ],
          "name": "stdout"
        }
      ]
    },
    {
      "cell_type": "code",
      "metadata": {
        "id": "jk6JGtR03G7h",
        "colab_type": "code",
        "colab": {
          "base_uri": "https://localhost:8080/",
          "height": 34
        },
        "outputId": "fc6c82ec-abe6-433e-ac00-29ef21677b91"
      },
      "source": [
        "db, pdbs = create_db_and_parallels(100)\n",
        "\n",
        "def query(db):\n",
        "  \n",
        "  return torch.sum(db.float() + noise)\n",
        "\n",
        "query(db)"
      ],
      "execution_count": 58,
      "outputs": [
        {
          "output_type": "execute_result",
          "data": {
            "text/plain": [
              "tensor(108.)"
            ]
          },
          "metadata": {
            "tags": []
          },
          "execution_count": 58
        }
      ]
    },
    {
      "cell_type": "code",
      "metadata": {
        "id": "TL_-P2p_3y46",
        "colab_type": "code",
        "colab": {
          "base_uri": "https://localhost:8080/",
          "height": 34
        },
        "outputId": "b5ad2f6b-4793-4859-a1bf-fc591bbc41a1"
      },
      "source": [
        "db, pdbs = create_db_and_parallels(100)\n",
        "\n",
        "def query(db):\n",
        "  \n",
        "  return torch.sum(db.float()) \n",
        "\n",
        "def M(db):\n",
        "  \n",
        "  query(db) + noise\n",
        "\n",
        "query(db)"
      ],
      "execution_count": 59,
      "outputs": [
        {
          "output_type": "execute_result",
          "data": {
            "text/plain": [
              "tensor(47.5000)"
            ]
          },
          "metadata": {
            "tags": []
          },
          "execution_count": 59
        }
      ]
    },
    {
      "cell_type": "code",
      "metadata": {
        "id": "iSMQkdwo41dG",
        "colab_type": "code",
        "colab": {}
      },
      "source": [
        "epsilon = 0.5"
      ],
      "execution_count": 0,
      "outputs": []
    },
    {
      "cell_type": "code",
      "metadata": {
        "id": "KS5-jQr0-4AV",
        "colab_type": "code",
        "colab": {}
      },
      "source": [
        "import numpy as np"
      ],
      "execution_count": 0,
      "outputs": []
    },
    {
      "cell_type": "code",
      "metadata": {
        "id": "1R0YaFND--6h",
        "colab_type": "code",
        "colab": {}
      },
      "source": [
        "db, pdbs = create_db_and_parallels(100)"
      ],
      "execution_count": 0,
      "outputs": []
    },
    {
      "cell_type": "code",
      "metadata": {
        "id": "fSkg7xmD_C-P",
        "colab_type": "code",
        "colab": {
          "base_uri": "https://localhost:8080/",
          "height": 102
        },
        "outputId": "687137ad-e8dc-49f0-9eea-637b2e26efce"
      },
      "source": [
        "db"
      ],
      "execution_count": 63,
      "outputs": [
        {
          "output_type": "execute_result",
          "data": {
            "text/plain": [
              "tensor([0, 0, 0, 0, 1, 1, 1, 1, 1, 0, 0, 1, 0, 1, 1, 0, 1, 1, 0, 0, 0, 1, 1, 1,\n",
              "        1, 1, 1, 1, 0, 0, 0, 1, 0, 0, 0, 0, 0, 0, 1, 0, 1, 1, 0, 0, 0, 0, 0, 0,\n",
              "        0, 1, 1, 0, 1, 1, 1, 1, 0, 1, 0, 1, 0, 0, 1, 0, 0, 0, 1, 0, 1, 0, 0, 1,\n",
              "        1, 1, 1, 1, 0, 1, 1, 0, 0, 1, 0, 0, 0, 1, 0, 1, 1, 1, 0, 0, 0, 1, 0, 1,\n",
              "        0, 1, 0, 1], dtype=torch.uint8)"
            ]
          },
          "metadata": {
            "tags": []
          },
          "execution_count": 63
        }
      ]
    },
    {
      "cell_type": "code",
      "metadata": {
        "id": "oflP-Kfm_G4n",
        "colab_type": "code",
        "colab": {
          "base_uri": "https://localhost:8080/",
          "height": 34
        },
        "outputId": "e08635a1-21aa-4347-b304-060f4b66fa93"
      },
      "source": [
        "sum(db)"
      ],
      "execution_count": 64,
      "outputs": [
        {
          "output_type": "execute_result",
          "data": {
            "text/plain": [
              "tensor(48, dtype=torch.uint8)"
            ]
          },
          "metadata": {
            "tags": []
          },
          "execution_count": 64
        }
      ]
    },
    {
      "cell_type": "code",
      "metadata": {
        "id": "Ukkm90pT_QeP",
        "colab_type": "code",
        "colab": {
          "base_uri": "https://localhost:8080/",
          "height": 102
        },
        "outputId": "6313bbba-7dea-4dc8-8f82-78c05402e28e"
      },
      "source": [
        "(db * 2)"
      ],
      "execution_count": 65,
      "outputs": [
        {
          "output_type": "execute_result",
          "data": {
            "text/plain": [
              "tensor([0, 0, 0, 0, 2, 2, 2, 2, 2, 0, 0, 2, 0, 2, 2, 0, 2, 2, 0, 0, 0, 2, 2, 2,\n",
              "        2, 2, 2, 2, 0, 0, 0, 2, 0, 0, 0, 0, 0, 0, 2, 0, 2, 2, 0, 0, 0, 0, 0, 0,\n",
              "        0, 2, 2, 0, 2, 2, 2, 2, 0, 2, 0, 2, 0, 0, 2, 0, 0, 0, 2, 0, 2, 0, 0, 2,\n",
              "        2, 2, 2, 2, 0, 2, 2, 0, 0, 2, 0, 0, 0, 2, 0, 2, 2, 2, 0, 0, 0, 2, 0, 2,\n",
              "        0, 2, 0, 2], dtype=torch.uint8)"
            ]
          },
          "metadata": {
            "tags": []
          },
          "execution_count": 65
        }
      ]
    },
    {
      "cell_type": "code",
      "metadata": {
        "id": "7BW-9zNQ_Sgr",
        "colab_type": "code",
        "colab": {
          "base_uri": "https://localhost:8080/",
          "height": 34
        },
        "outputId": "d40ac5f5-568a-4af8-effe-776668bce7ce"
      },
      "source": [
        "sum(db * 2)"
      ],
      "execution_count": 66,
      "outputs": [
        {
          "output_type": "execute_result",
          "data": {
            "text/plain": [
              "tensor(96, dtype=torch.uint8)"
            ]
          },
          "metadata": {
            "tags": []
          },
          "execution_count": 66
        }
      ]
    },
    {
      "cell_type": "code",
      "metadata": {
        "id": "gxqkxAOE_gdt",
        "colab_type": "code",
        "colab": {}
      },
      "source": [
        "def sum_query(db):\n",
        "  return db.sum()"
      ],
      "execution_count": 0,
      "outputs": []
    },
    {
      "cell_type": "code",
      "metadata": {
        "id": "-sFUCUFEAxoY",
        "colab_type": "code",
        "colab": {}
      },
      "source": [
        "def laplacian_mechanism(db, query, sensitivity):\n",
        "  \n",
        "  beta = sensitivity / epsilon\n",
        "  \n",
        "  noise = torch.tensor(np.random.laplace(0, beta, 1))\n",
        "  \n",
        "  return query(db) + noise"
      ],
      "execution_count": 0,
      "outputs": []
    },
    {
      "cell_type": "code",
      "metadata": {
        "id": "-XUJYNNJCPb6",
        "colab_type": "code",
        "colab": {}
      },
      "source": [
        "def mean_query(db):\n",
        "  \n",
        "  return torch.mean(db.float())"
      ],
      "execution_count": 0,
      "outputs": []
    },
    {
      "cell_type": "code",
      "metadata": {
        "id": "HNruI55WCc_S",
        "colab_type": "code",
        "colab": {
          "base_uri": "https://localhost:8080/",
          "height": 34
        },
        "outputId": "c2a19cb8-3198-41e3-a64c-1806ac2c1c57"
      },
      "source": [
        "mean_query(db)"
      ],
      "execution_count": 74,
      "outputs": [
        {
          "output_type": "execute_result",
          "data": {
            "text/plain": [
              "tensor(0.4800)"
            ]
          },
          "metadata": {
            "tags": []
          },
          "execution_count": 74
        }
      ]
    },
    {
      "cell_type": "code",
      "metadata": {
        "id": "ZmOOTRyABlA3",
        "colab_type": "code",
        "colab": {
          "base_uri": "https://localhost:8080/",
          "height": 34
        },
        "outputId": "0d19f088-00eb-4887-e4f3-0b9e83e3ee48"
      },
      "source": [
        "laplacian_mechanism(db, sum_query, 1)"
      ],
      "execution_count": 71,
      "outputs": [
        {
          "output_type": "execute_result",
          "data": {
            "text/plain": [
              "tensor([48.0762], dtype=torch.float64)"
            ]
          },
          "metadata": {
            "tags": []
          },
          "execution_count": 71
        }
      ]
    },
    {
      "cell_type": "code",
      "metadata": {
        "id": "74tQfAW5Crky",
        "colab_type": "code",
        "colab": {
          "base_uri": "https://localhost:8080/",
          "height": 34
        },
        "outputId": "7b6faaba-c4cb-4850-d216-03efe7062daa"
      },
      "source": [
        "laplacian_mechanism(db, sum_query, 1/100)"
      ],
      "execution_count": 85,
      "outputs": [
        {
          "output_type": "execute_result",
          "data": {
            "text/plain": [
              "tensor([48.0245], dtype=torch.float64)"
            ]
          },
          "metadata": {
            "tags": []
          },
          "execution_count": 85
        }
      ]
    }
  ]
}